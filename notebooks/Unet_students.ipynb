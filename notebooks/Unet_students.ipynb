{
  "nbformat": 4,
  "nbformat_minor": 0,
  "metadata": {
    "colab": {
      "provenance": []
    },
    "kernelspec": {
      "name": "python3",
      "display_name": "Python 3"
    },
    "language_info": {
      "name": "python"
    }
  },
  "cells": [
    {
      "cell_type": "markdown",
      "source": [
        "# Unet"
      ],
      "metadata": {
        "id": "UOSS5JahymVZ"
      }
    },
    {
      "cell_type": "code",
      "source": [
        "!git clone https://github.com/proxod3-first/U-Net_realization.git"
      ],
      "metadata": {
        "colab": {
          "base_uri": "https://localhost:8080/"
        },
        "id": "1xWLxOYHLJjh",
        "outputId": "99d6224b-f3cf-4a8d-d71c-4488daeae66c"
      },
      "execution_count": 4,
      "outputs": [
        {
          "output_type": "stream",
          "name": "stdout",
          "text": [
            "Cloning into 'U-Net_realization'...\n",
            "remote: Enumerating objects: 67, done.\u001b[K\n",
            "remote: Counting objects: 100% (67/67), done.\u001b[K\n",
            "remote: Compressing objects: 100% (46/46), done.\u001b[K\n",
            "remote: Total 67 (delta 28), reused 52 (delta 16), pack-reused 0\u001b[K\n",
            "Receiving objects: 100% (67/67), 485.96 KiB | 3.95 MiB/s, done.\n",
            "Resolving deltas: 100% (28/28), done.\n"
          ]
        }
      ]
    },
    {
      "cell_type": "markdown",
      "source": [
        "## Configuring Your Development Environment"
      ],
      "metadata": {
        "id": "jYriOD_-u2OJ"
      }
    },
    {
      "cell_type": "code",
      "execution_count": 1,
      "metadata": {
        "id": "dTTb9k6OuwqA",
        "colab": {
          "base_uri": "https://localhost:8080/"
        },
        "outputId": "8775cb90-a628-4320-f013-df4eded341fe"
      },
      "outputs": [
        {
          "output_type": "stream",
          "name": "stdout",
          "text": [
            "Requirement already satisfied: torch in /usr/local/lib/python3.10/dist-packages (2.1.0+cu118)\n",
            "Requirement already satisfied: torchvision in /usr/local/lib/python3.10/dist-packages (0.16.0+cu118)\n",
            "Requirement already satisfied: filelock in /usr/local/lib/python3.10/dist-packages (from torch) (3.13.1)\n",
            "Requirement already satisfied: typing-extensions in /usr/local/lib/python3.10/dist-packages (from torch) (4.5.0)\n",
            "Requirement already satisfied: sympy in /usr/local/lib/python3.10/dist-packages (from torch) (1.12)\n",
            "Requirement already satisfied: networkx in /usr/local/lib/python3.10/dist-packages (from torch) (3.2.1)\n",
            "Requirement already satisfied: jinja2 in /usr/local/lib/python3.10/dist-packages (from torch) (3.1.2)\n",
            "Requirement already satisfied: fsspec in /usr/local/lib/python3.10/dist-packages (from torch) (2023.6.0)\n",
            "Requirement already satisfied: triton==2.1.0 in /usr/local/lib/python3.10/dist-packages (from torch) (2.1.0)\n",
            "Requirement already satisfied: numpy in /usr/local/lib/python3.10/dist-packages (from torchvision) (1.23.5)\n",
            "Requirement already satisfied: requests in /usr/local/lib/python3.10/dist-packages (from torchvision) (2.31.0)\n",
            "Requirement already satisfied: pillow!=8.3.*,>=5.3.0 in /usr/local/lib/python3.10/dist-packages (from torchvision) (9.4.0)\n",
            "Requirement already satisfied: MarkupSafe>=2.0 in /usr/local/lib/python3.10/dist-packages (from jinja2->torch) (2.1.3)\n",
            "Requirement already satisfied: charset-normalizer<4,>=2 in /usr/local/lib/python3.10/dist-packages (from requests->torchvision) (3.3.2)\n",
            "Requirement already satisfied: idna<4,>=2.5 in /usr/local/lib/python3.10/dist-packages (from requests->torchvision) (3.4)\n",
            "Requirement already satisfied: urllib3<3,>=1.21.1 in /usr/local/lib/python3.10/dist-packages (from requests->torchvision) (2.0.7)\n",
            "Requirement already satisfied: certifi>=2017.4.17 in /usr/local/lib/python3.10/dist-packages (from requests->torchvision) (2023.7.22)\n",
            "Requirement already satisfied: mpmath>=0.19 in /usr/local/lib/python3.10/dist-packages (from sympy->torch) (1.3.0)\n",
            "Requirement already satisfied: matplotlib in /usr/local/lib/python3.10/dist-packages (3.7.1)\n",
            "Requirement already satisfied: contourpy>=1.0.1 in /usr/local/lib/python3.10/dist-packages (from matplotlib) (1.2.0)\n",
            "Requirement already satisfied: cycler>=0.10 in /usr/local/lib/python3.10/dist-packages (from matplotlib) (0.12.1)\n",
            "Requirement already satisfied: fonttools>=4.22.0 in /usr/local/lib/python3.10/dist-packages (from matplotlib) (4.44.0)\n",
            "Requirement already satisfied: kiwisolver>=1.0.1 in /usr/local/lib/python3.10/dist-packages (from matplotlib) (1.4.5)\n",
            "Requirement already satisfied: numpy>=1.20 in /usr/local/lib/python3.10/dist-packages (from matplotlib) (1.23.5)\n",
            "Requirement already satisfied: packaging>=20.0 in /usr/local/lib/python3.10/dist-packages (from matplotlib) (23.2)\n",
            "Requirement already satisfied: pillow>=6.2.0 in /usr/local/lib/python3.10/dist-packages (from matplotlib) (9.4.0)\n",
            "Requirement already satisfied: pyparsing>=2.3.1 in /usr/local/lib/python3.10/dist-packages (from matplotlib) (3.1.1)\n",
            "Requirement already satisfied: python-dateutil>=2.7 in /usr/local/lib/python3.10/dist-packages (from matplotlib) (2.8.2)\n",
            "Requirement already satisfied: six>=1.5 in /usr/local/lib/python3.10/dist-packages (from python-dateutil>=2.7->matplotlib) (1.16.0)\n",
            "Requirement already satisfied: opencv-contrib-python in /usr/local/lib/python3.10/dist-packages (4.8.0.76)\n",
            "Requirement already satisfied: numpy>=1.21.2 in /usr/local/lib/python3.10/dist-packages (from opencv-contrib-python) (1.23.5)\n",
            "Requirement already satisfied: imutils in /usr/local/lib/python3.10/dist-packages (0.5.4)\n",
            "Requirement already satisfied: scikit-learn in /usr/local/lib/python3.10/dist-packages (1.2.2)\n",
            "Requirement already satisfied: numpy>=1.17.3 in /usr/local/lib/python3.10/dist-packages (from scikit-learn) (1.23.5)\n",
            "Requirement already satisfied: scipy>=1.3.2 in /usr/local/lib/python3.10/dist-packages (from scikit-learn) (1.11.3)\n",
            "Requirement already satisfied: joblib>=1.1.1 in /usr/local/lib/python3.10/dist-packages (from scikit-learn) (1.3.2)\n",
            "Requirement already satisfied: threadpoolctl>=2.0.0 in /usr/local/lib/python3.10/dist-packages (from scikit-learn) (3.2.0)\n",
            "Requirement already satisfied: tqdm in /usr/local/lib/python3.10/dist-packages (4.66.1)\n"
          ]
        }
      ],
      "source": [
        "!pip install torch torchvision\n",
        "!pip install matplotlib\n",
        "!pip install opencv-contrib-python\n",
        "!pip install imutils\n",
        "!pip install scikit-learn\n",
        "!pip install tqdm"
      ]
    },
    {
      "cell_type": "markdown",
      "source": [
        "Данные\n",
        "\n",
        "![](https://b2633864.smushcdn.com/2633864/wp-content/uploads/2021/11/TGS_Salt_dataset_optimized.png?lossy=1&strip=1&webp=1)\n",
        "\n",
        "https://www.kaggle.com/competitions/tgs-salt-identification-challenge/data"
      ],
      "metadata": {
        "id": "sn_m_xWXvY2P"
      }
    },
    {
      "cell_type": "markdown",
      "source": [
        "## Project structure"
      ],
      "metadata": {
        "id": "8yjgyIYyvBMT"
      }
    },
    {
      "cell_type": "code",
      "source": [
        "# .\n",
        "# ├── dataset\n",
        "# │   └── train\n",
        "# │       └── images\n",
        "# │       └── masks\n",
        "# ├── files\n",
        "# ├── output\n",
        "# ├── pyimagesearch\n",
        "# │   ├── config.py\n",
        "# │   ├── dataset.py\n",
        "# │   └── model.py\n",
        "# ├── predict.py\n",
        "# └── train.py"
      ],
      "metadata": {
        "id": "2G_rjGF3vAsc"
      },
      "execution_count": null,
      "outputs": []
    },
    {
      "cell_type": "markdown",
      "source": [
        "## config.py"
      ],
      "metadata": {
        "id": "H9qBPub3vHr3"
      }
    },
    {
      "cell_type": "code",
      "source": [
        "# import the necessary packages\n",
        "import torch\n",
        "import os\n",
        "\n",
        "# base path of the dataset\n",
        "DATASET_PATH = os.path.join(\"dataset\", \"train\")\n",
        "\n",
        "# define the path to the images and masks dataset\n",
        "IMAGE_DATASET_PATH = os.path.join(DATASET_PATH, \"images\")\n",
        "MASK_DATASET_PATH = os.path.join(DATASET_PATH, \"masks\")\n",
        "\n",
        "# define the test split\n",
        "TEST_SPLIT = 0.15\n",
        "\n",
        "# determine the device to be used for training and evaluation\n",
        "DEVICE = \"cuda\" if torch.cuda.is_available() else \"cpu\"\n",
        "\n",
        "# determine if we will be pinning memory during data loading\n",
        "PIN_MEMORY = True if DEVICE == \"cuda\" else False\n",
        "\n",
        "# define the number of channels in the input, number of classes,\n",
        "# and number of levels in the U-Net model\n",
        "NUM_CHANNELS = 1\n",
        "NUM_CLASSES = 1\n",
        "NUM_LEVELS = 3\n",
        "\n",
        "# initialize learning rate, number of epochs to train for, and the\n",
        "# batch size\n",
        "INIT_LR = 0.001\n",
        "NUM_EPOCHS = 40\n",
        "BATCH_SIZE = 64\n",
        "\n",
        "# define the input image dimensions\n",
        "INPUT_IMAGE_WIDTH = 128\n",
        "INPUT_IMAGE_HEIGHT = 128\n",
        "\n",
        "# define threshold to filter weak predictions\n",
        "THRESHOLD = 0.5\n",
        "\n",
        "# define the path to the base output directory\n",
        "BASE_OUTPUT = \"output\"\n",
        "\n",
        "# define the path to the output serialized model, model training\n",
        "# plot, and testing image paths\n",
        "MODEL_PATH = os.path.join(BASE_OUTPUT, \"unet_tgs_salt.pth\")\n",
        "PLOT_PATH = os.path.sep.join([BASE_OUTPUT, \"plot.png\"])\n",
        "TEST_PATHS = os.path.sep.join([BASE_OUTPUT, \"test_paths.txt\"])"
      ],
      "metadata": {
        "id": "_aour3d0vDnW"
      },
      "execution_count": null,
      "outputs": []
    },
    {
      "cell_type": "markdown",
      "source": [
        "##dataset.py"
      ],
      "metadata": {
        "id": "jG4lJlB3v5EC"
      }
    },
    {
      "cell_type": "code",
      "source": [
        "# import the necessary packages\n",
        "from torch.utils.data import Dataset\n",
        "import cv2\n",
        "\n",
        "class SegmentationDataset(Dataset):\n",
        "\tdef __init__(self, imagePaths, maskPaths, transforms):\n",
        "\t\t# store the image and mask filepaths, and augmentation\n",
        "\t\t# transforms\n",
        "\n",
        "\t\tself.imagePaths = imagePaths\n",
        "\t\tself.maskPaths = maskPaths\n",
        "\t\tself.transforms = transforms\n",
        "\n",
        "\tdef __len__(self):\n",
        "\t\t# return the number of total samples contained in the dataset\n",
        "\t\treturn len(self.imagePaths)\n",
        "\n",
        "\tdef __getitem__(self, idx):\n",
        "\t\t# grab the image path from the current index\n",
        "\t\timagePath = self.imagePaths[idx]\n",
        "\n",
        "\t\t# load the image from disk, swap its channels from BGR to RGB,\n",
        "\t\t# and read the associated mask from disk in grayscale mode\n",
        "\t\timage = cv2.imread(imagePath)\n",
        "\t\timage = cv2.cvtColor(image, cv2.COLOR_BGR2RGB)\n",
        "\t\tmask = cv2.imread(self.maskPaths[idx], 0)\n",
        "\n",
        "\t\t# check to see if we are applying any transformations\n",
        "\t\tif self.transforms is not None:\n",
        "\t\t\t# apply the transformations to both image and its mask\n",
        "\t\t\timage = self.transforms(image)\n",
        "\t\t\tmask = self.transforms(mask)\n",
        "\n",
        "\t\t# return a tuple of the image and its mask\n",
        "\t\treturn (image, mask)"
      ],
      "metadata": {
        "id": "PC6vKOLzvv9i"
      },
      "execution_count": null,
      "outputs": []
    },
    {
      "cell_type": "markdown",
      "source": [
        "## model.py"
      ],
      "metadata": {
        "id": "HfVT8ZgLv-hG"
      }
    },
    {
      "cell_type": "markdown",
      "source": [
        "https://arxiv.org/pdf/1505.04597.pdf"
      ],
      "metadata": {
        "id": "svCZ6OSizIJB"
      }
    },
    {
      "cell_type": "code",
      "source": [
        "# import the necessary packages\n",
        "# from . import config\n",
        "from torch.nn import ConvTranspose2d\n",
        "from torch.nn import Conv2d\n",
        "from torch.nn import MaxPool2d\n",
        "from torch.nn import Module\n",
        "from torch.nn import ModuleList\n",
        "from torch.nn import ReLU\n",
        "from torchvision.transforms import CenterCrop\n",
        "from torch.nn import functional as F\n",
        "import torch"
      ],
      "metadata": {
        "id": "il85IV8lv_mc"
      },
      "execution_count": null,
      "outputs": []
    },
    {
      "cell_type": "markdown",
      "source": [
        "### Class Block"
      ],
      "metadata": {
        "id": "2k-0tmGyyEdz"
      }
    },
    {
      "cell_type": "code",
      "source": [
        "class Block(Module):\n",
        "\tdef __init__(self, inChannels, outChannels):\n",
        "\t\tsuper().__init__()\n",
        "\n",
        "\t\tself.conv1 = Conv2d(inChannels, outChannels, 3)\n",
        "\t\tself.relu = ReLU()\n",
        "\t\tself.conv2 = Conv2d(outChannels, outChannels, 3)\n",
        "\n",
        "\tdef forward(self, x):\n",
        "\t\t# apply CONV => RELU => CONV block to the inputs and return it\n",
        "\t\treturn self.relu(self.conv2(self.relu(self.conv1(x))))"
      ],
      "metadata": {
        "id": "qCXSL6nFwBEl"
      },
      "execution_count": null,
      "outputs": []
    },
    {
      "cell_type": "markdown",
      "source": [
        "### Class Encoder"
      ],
      "metadata": {
        "id": "QJVnbG1zyGto"
      }
    },
    {
      "cell_type": "code",
      "source": [
        "class Encoder(Module):\n",
        "    def __init__(self, channels=(3, 16, 32, 64)):\n",
        "        super().__init__()\n",
        "        # store the encoder blocks and maxpooling layer\n",
        "        self.encBlocks = ModuleList(\n",
        "            [Block(channels[i], channels[i + 1])\n",
        "                 for i in range(len(channels) - 1)])\n",
        "        self.pool = MaxPool2d(2)\n",
        "\n",
        "    def forward(self, x):\n",
        "        # initialize an empty list to store the intermediate outputs\n",
        "        blockOutputs = []\n",
        "        # loop through the encoder blocks\n",
        "        for block in self.encBlocks:\n",
        "            # pass the inputs through the current encoder block, store\n",
        "            # the outputs, and then apply maxpooling on the output\n",
        "            x = block(x)\n",
        "            blockOutputs.append(x)\n",
        "            x = self.pool(x)\n",
        "        # return the list containing the intermediate outputs\n",
        "        return blockOutputs"
      ],
      "metadata": {
        "id": "Ri4WCXeywFPZ"
      },
      "execution_count": null,
      "outputs": []
    },
    {
      "cell_type": "markdown",
      "source": [
        "### Class Decoder"
      ],
      "metadata": {
        "id": "tMe4wvBayIhw"
      }
    },
    {
      "cell_type": "code",
      "source": [
        "class Decoder(Module):\n",
        "    def __init__(self, channels=(64, 32, 16)):\n",
        "        super().__init__()\n",
        "        # initialize the number of channels, upsampler blocks, and\n",
        "        # decoder blocks\n",
        "        self.channels = channels\n",
        "        self.upconvs = ModuleList(\n",
        "            [ConvTranspose2d(channels[i], channels[i + 1], 2, 2)\n",
        "                 for i in range(len(channels) - 1)])\n",
        "        self.dec_blocks = ModuleList(\n",
        "            [Block(channels[i], channels[i + 1])\n",
        "                 for i in range(len(channels) - 1)])\n",
        "\n",
        "    def forward(self, x, encFeatures):\n",
        "        # loop through the number of channels\n",
        "        for i in range(len(self.channels) - 1):\n",
        "            # pass the inputs through the upsampler blocks\n",
        "            x = self.upconvs[i](x)\n",
        "            # crop the current features from the encoder blocks,\n",
        "            # concatenate them with the current upsampled features,\n",
        "            # and pass the concatenated output through the current\n",
        "            # decoder block\n",
        "            encFeat = self.crop(encFeatures[i], x)\n",
        "            x = torch.cat([x, encFeat], dim=1)\n",
        "            x = self.dec_blocks[i](x)\n",
        "        # return the final decoder output\n",
        "        return x\n",
        "\n",
        "    def crop(self, encFeatures, x):\n",
        "        # grab the dimensions of the inputs, and crop the encoder\n",
        "        # features to match the dimensions\n",
        "        (_, _, H, W) = x.shape\n",
        "        encFeatures = CenterCrop([H, W])(encFeatures)\n",
        "        # return the cropped features\n",
        "        return encFeatures"
      ],
      "metadata": {
        "id": "y2U3h-h8wKHK"
      },
      "execution_count": null,
      "outputs": []
    },
    {
      "cell_type": "markdown",
      "source": [
        "### Class Unet"
      ],
      "metadata": {
        "id": "CpSH3pMsyKmq"
      }
    },
    {
      "cell_type": "code",
      "source": [
        "class UNet(Module):\n",
        "    def __init__(self, encChannels=(3, 16, 32, 64),\n",
        "        decChannels=(64, 32, 16),\n",
        "        nbClasses=1, retainDim=True,\n",
        "        outSize=(config.INPUT_IMAGE_HEIGHT,  config.INPUT_IMAGE_WIDTH)):\n",
        "        super().__init__()\n",
        "        # initialize the encoder and decoder\n",
        "        self.encoder = Encoder(encChannels)\n",
        "        self.decoder = Decoder(decChannels)\n",
        "        # initialize the regression head and store the class variables\n",
        "        self.head = Conv2d(decChannels[-1], nbClasses, 1)\n",
        "        self.retainDim = retainDim\n",
        "        self.outSize = outSize\n",
        "\n",
        "    def forward(self, x):\n",
        "        # grab the features from the encoder\n",
        "        encFeatures = self.encoder(x)\n",
        "        # pass the encoder features through decoder making sure that\n",
        "        # their dimensions are suited for concatenation\n",
        "        decFeatures = self.decoder(encFeatures[::-1][0],\n",
        "            encFeatures[::-1][1:])\n",
        "        # pass the decoder features through the regression head to\n",
        "        # obtain the segmentation mask\n",
        "        map = self.head(decFeatures)\n",
        "        # check to see if we are retaining the original output\n",
        "        # dimensions and if so, then resize the output to match them\n",
        "        if self.retainDim:\n",
        "            map = F.interpolate(map, self.outSize)\n",
        "        # return the segmentation map\n",
        "        return map"
      ],
      "metadata": {
        "id": "RZV9VZfJwZmp"
      },
      "execution_count": null,
      "outputs": []
    },
    {
      "cell_type": "markdown",
      "source": [
        "### Test model"
      ],
      "metadata": {
        "id": "uXBe85px0wpP"
      }
    },
    {
      "cell_type": "code",
      "source": [
        "model = UNet()\n",
        "model"
      ],
      "metadata": {
        "id": "R7i0Q3Pv0zUK"
      },
      "execution_count": null,
      "outputs": []
    },
    {
      "cell_type": "markdown",
      "source": [
        "## train.py"
      ],
      "metadata": {
        "id": "vacEoDj1wm7Y"
      }
    },
    {
      "cell_type": "code",
      "source": [
        "# load the image and mask filepaths in a sorted manner\n",
        "imagePaths = sorted(list(paths.list_images(config.IMAGE_DATASET_PATH)))\n",
        "maskPaths = sorted(list(paths.list_images(config.MASK_DATASET_PATH)))\n",
        "\n",
        "# partition the data into training and testing splits using 85% of\n",
        "# the data for training and the remaining 15% for testing\n",
        "split = train_test_split(imagePaths, maskPaths,\n",
        "\ttest_size=config.TEST_SPLIT, random_state=42)\n",
        "\n",
        "# unpack the data split\n",
        "(trainImages, testImages) = split[:2]\n",
        "(trainMasks, testMasks) = split[2:]\n",
        "\n",
        "# write the testing image paths to disk so that we can use then\n",
        "# when evaluating/testing our model\n",
        "print(\"[INFO] saving testing image paths...\")\n",
        "f = open(config.TEST_PATHS, \"w\")\n",
        "f.write(\"\\n\".join(testImages))\n",
        "f.close()"
      ],
      "metadata": {
        "id": "T_Sjvb57wma3"
      },
      "execution_count": null,
      "outputs": []
    },
    {
      "cell_type": "code",
      "source": [
        "# define transformations\n",
        "transforms = transforms.Compose([transforms.ToPILImage(),\n",
        " \ttransforms.Resize((config.INPUT_IMAGE_HEIGHT,\n",
        "\t\tconfig.INPUT_IMAGE_WIDTH)),\n",
        "\ttransforms.ToTensor()])\n",
        "\n",
        "# create the train and test datasets\n",
        "trainDS = SegmentationDataset(imagePaths=trainImages, maskPaths=trainMasks,\n",
        "\ttransforms=transforms)\n",
        "testDS = SegmentationDataset(imagePaths=testImages, maskPaths=testMasks,\n",
        "    transforms=transforms)\n",
        "print(f\"[INFO] found {len(trainDS)} examples in the training set...\")\n",
        "print(f\"[INFO] found {len(testDS)} examples in the test set...\")\n",
        "\n",
        "# create the training and test data loaders\n",
        "trainLoader = DataLoader(trainDS, shuffle=True,\n",
        "\tbatch_size=config.BATCH_SIZE, pin_memory=config.PIN_MEMORY,\n",
        "\tnum_workers=os.cpu_count())\n",
        "testLoader = DataLoader(testDS, shuffle=False,\n",
        "\tbatch_size=config.BATCH_SIZE, pin_memory=config.PIN_MEMORY,\n",
        "\tnum_workers=os.cpu_count())"
      ],
      "metadata": {
        "id": "7UKrysaxwvRs"
      },
      "execution_count": null,
      "outputs": []
    },
    {
      "cell_type": "code",
      "source": [
        "from torch.nn.modules.loss import BCEWithLogitsLoss\n",
        "# initialize our UNet model\n",
        "unet = UNet().to(config.DEVICE)\n",
        "\n",
        "# initialize loss function and optimizer\n",
        "loss_func = BCEWithLogitsLoss()\n",
        "opt = Adam(unet.parameters(), lr=config.INIT_LR)\n",
        "\n",
        "# calculate steps per epoch for training and test set\n",
        "trainSteps = len(trainDS) // config.BATCH_SIZE\n",
        "testSteps = len(testDS) // config.BATCH_SIZE\n",
        "\n",
        "# initialize a dictionary to store training history\n",
        "H = {\"train_loss\": [], \"test_loss\": []}"
      ],
      "metadata": {
        "id": "G0qQMUbGw0bK"
      },
      "execution_count": null,
      "outputs": []
    },
    {
      "cell_type": "code",
      "source": [
        "# loop over epochs\n",
        "print(\"[INFO] training the network...\")\n",
        "startTime = time.time()\n",
        "\n",
        "for e in tqdm(range(config.NUM_EPOCHS)):\n",
        "\t# set the model in training mode\n",
        "\tunet.train()\n",
        "\n",
        "\t# initialize the total training and validation loss\n",
        "\ttotalTrainLoss = 0\n",
        "\ttotalTestLoss = 0\n",
        "\n",
        "\t# loop over the training set\n",
        "\tfor (i, (x, y)) in enumerate(trainLoader):\n",
        "\t\t# send the input to the device\n",
        "\t\t(x, y) = (x.to(config.DEVICE), y.to(config.DEVICE))\n",
        "\n",
        "\t\t# perform a forward pass and calculate the training loss\n",
        "\t\tpred = unet(x)\n",
        "\t\tloss = loss_func(pred, y)\n",
        "\n",
        "\t\t# first, zero out any previously accumulated gradients, then\n",
        "\t\t# perform backpropagation, and then update model parameters\n",
        "\t\topt.zero_grad()\n",
        "\t\tloss.backward()\n",
        "\t\topt.step()\n",
        "\n",
        "\t\t# add the loss to the total training loss so far\n",
        "\t\ttotalTrainLoss += loss\n",
        "\n",
        "\t# switch off autograd\n",
        "\twith torch.no_grad():\n",
        "\t\t# set the model in evaluation mode\n",
        "\t\tunet.eval()\n",
        "\n",
        "\t\t# loop over the validation set\n",
        "\t\tfor (x, y) in testLoader:\n",
        "\t\t\t# send the input to the device\n",
        "\t\t\t(x, y) = (x.to(config.DEVICE), y.to(config.DEVICE))\n",
        "\n",
        "\t\t\t# make the predictions and calculate the validation loss\n",
        "\t\t\tpred = unet(x)\n",
        "\t\t\ttotalTestLoss += loss_func(pred, y)\n",
        "\n",
        "\t# calculate the average training and validation loss\n",
        "\tavgTrainLoss = totalTrainLoss / trainSteps\n",
        "\tavgTestLoss = totalTestLoss / testSteps\n",
        "\n",
        "\t# update our training history\n",
        "\tH[\"train_loss\"].append(avgTrainLoss.cpu().detach().numpy())\n",
        "\tH[\"test_loss\"].append(avgTestLoss.cpu().detach().numpy())\n",
        "\n",
        "\t# print the model training and validation information\n",
        "\tprint(\"[INFO] EPOCH: {}/{}\".format(e + 1, config.NUM_EPOCHS))\n",
        "\tprint(\"Train loss: {:.6f}, Test loss: {:.4f}\".format(\n",
        "\t\tavgTrainLoss, avgTestLoss))\n",
        "\n",
        "# display the total time needed to perform the training\n",
        "endTime = time.time()\n",
        "print(\"[INFO] total time taken to train the model: {:.2f}s\".format(\n",
        "\tendTime - startTime))"
      ],
      "metadata": {
        "id": "m7YxEFnmw56X"
      },
      "execution_count": null,
      "outputs": []
    },
    {
      "cell_type": "code",
      "source": [
        "# plot the training loss\n",
        "plt.style.use(\"ggplot\")\n",
        "plt.figure()\n",
        "plt.plot(H[\"train_loss\"], label=\"train_loss\")\n",
        "plt.plot(H[\"test_loss\"], label=\"test_loss\")\n",
        "plt.title(\"Training Loss on Dataset\")\n",
        "plt.xlabel(\"Epoch #\")\n",
        "plt.ylabel(\"Loss\")\n",
        "plt.legend(loc=\"lower left\")\n",
        "plt.savefig(config.PLOT_PATH)\n",
        "\n",
        "# serialize the model to disk\n",
        "torch.save(unet, config.MODEL_PATH)"
      ],
      "metadata": {
        "id": "EULCv_xDxKtP"
      },
      "execution_count": null,
      "outputs": []
    },
    {
      "cell_type": "markdown",
      "source": [
        "## predict.py"
      ],
      "metadata": {
        "id": "nxZC6x4Bx0Yg"
      }
    },
    {
      "cell_type": "code",
      "source": [
        "# USAGE\n",
        "\n",
        "# python predict.py\n",
        "# import the necessary packages\n",
        "from pyimagesearch import config\n",
        "import matplotlib.pyplot as plt\n",
        "import numpy as np\n",
        "import torch\n",
        "import cv2\n",
        "import os\n",
        "\n",
        "def prepare_plot(origImage, origMask, predMask):\n",
        "\t# initialize our figure\n",
        "\tfigure, ax = plt.subplots(nrows=1, ncols=3, figsize=(10, 10))\n",
        "\n",
        "\t# plot the original image, its mask, and the predicted mask\n",
        "\tax[0].imshow(origImage)\n",
        "\tax[1].imshow(origMask)\n",
        "\tax[2].imshow(predMask)\n",
        "\n",
        "\t# set the titles of the subplots\n",
        "\tax[0].set_title(\"Image\")\n",
        "\tax[1].set_title(\"Original Mask\")\n",
        "\tax[2].set_title(\"Predicted Mask\")\n",
        "\n",
        "\t# set the layout of the figure and display it\n",
        "\tfigure.tight_layout()\n",
        "\tfigure.show()\n"
      ],
      "metadata": {
        "id": "353_Tu6NxhUC"
      },
      "execution_count": null,
      "outputs": []
    },
    {
      "cell_type": "code",
      "source": [
        "def make_predictions(model, imagePath):\n",
        "\t# set model to evaluation mode\n",
        "\tmodel.eval()\n",
        "\n",
        "\t# turn off gradient tracking\n",
        "\twith torch.no_grad():\n",
        "\t\t# load the image from disk, swap its color channels, cast it\n",
        "\t\t# to float data type, and scale its pixel values\n",
        "\t\timage = cv2.imread(imagePath)\n",
        "\t\timage = cv2.cvtColor(image, cv2.COLOR_BGR2RGB)\n",
        "\t\timage = image.astype(\"float32\") / 255.0\n",
        "\n",
        "\t\t# resize the image and make a copy of it for visualization\n",
        "\t\timage = cv2.resize(image, (128, 128))\n",
        "\t\torig = image.copy()\n",
        "\n",
        "\t\t# find the filename and generate the path to ground truth\n",
        "\t\t# mask\n",
        "\t\tfilename = imagePath.split(os.path.sep)[-1]\n",
        "\t\tgroundTruthPath = os.path.join(config.MASK_DATASET_PATH,\n",
        "\t\t\tfilename)\n",
        "\n",
        "\t\t# load the ground-truth segmentation mask in grayscale mode\n",
        "\t\t# and resize it\n",
        "\t\tgtMask = cv2.imread(groundTruthPath, 0)\n",
        "\t\tgtMask = cv2.resize(gtMask, (config.INPUT_IMAGE_HEIGHT,\n",
        "\t\t\tconfig.INPUT_IMAGE_HEIGHT))\n",
        "\n",
        "  \t# make the channel axis to be the leading one, add a batch\n",
        "\t\t# dimension, create a PyTorch tensor, and flash it to the\n",
        "\t\t# current device\n",
        "\t\timage = np.transpose(image, (2, 0, 1))\n",
        "\t\timage = np.expand_dims(image, 0)\n",
        "\t\timage = torch.from_numpy(image).to(config.DEVICE)\n",
        "\n",
        "\t\t# make the prediction, pass the results through the sigmoid\n",
        "\t\t# function, and convert the result to a NumPy array\n",
        "\t\tpredMask = model(image).squeeze()\n",
        "\t\tpredMask = torch.sigmoid(predMask)\n",
        "\t\tpredMask = predMask.cpu().numpy()\n",
        "\n",
        "\t\t# filter out the weak predictions and convert them to integers\n",
        "\t\tpredMask = (predMask > config.THRESHOLD) * 255\n",
        "\t\tpredMask = predMask.astype(np.uint8)\n",
        "\n",
        "\t\t# prepare a plot for visualization\n",
        "\t\tprepare_plot(orig, gtMask, predMask)"
      ],
      "metadata": {
        "id": "F0cHZrb2xp1o"
      },
      "execution_count": null,
      "outputs": []
    },
    {
      "cell_type": "code",
      "source": [
        "# load the image paths in our testing file and randomly select 10\n",
        "# image paths\n",
        "print(\"[INFO] loading up test image paths...\")\n",
        "imagePaths = open(config.TEST_PATHS).read().strip().split(\"\\n\")\n",
        "imagePaths = np.random.choice(imagePaths, size=10)\n",
        "\n",
        "# load our model from disk and flash it to the current device\n",
        "print(\"[INFO] load up model...\")\n",
        "unet = torch.load(config.MODEL_PATH).to(config.DEVICE)\n",
        "\n",
        "# iterate over the randomly selected test image paths\n",
        "for path in imagePaths:\n",
        "\t# make predictions and visualize the results\n",
        "\tmake_predictions(unet, path)"
      ],
      "metadata": {
        "id": "lDaALqJ_xsk8"
      },
      "execution_count": null,
      "outputs": []
    }
  ]
}